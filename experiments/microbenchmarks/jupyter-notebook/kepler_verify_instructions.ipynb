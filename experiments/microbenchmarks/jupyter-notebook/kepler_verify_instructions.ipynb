{
 "cells": [
  {
   "cell_type": "code",
   "execution_count": 33,
   "id": "02bc35e6-0217-448d-a747-c2b4af65a129",
   "metadata": {},
   "outputs": [
    {
     "name": "stdout",
     "output_type": "stream",
     "text": [
      "148\n",
      "32\n",
      "92802839481.0\n"
     ]
    }
   ],
   "source": [
    "with open(\"../results/verify_instructions_exp/metrics1.log\") as f:\n",
    "    lines = f.readlines()\n",
    "mset = set()\n",
    "cnt=0\n",
    "for line in lines:\n",
    "    if \"microbench\" in line and \"instructions\" in line:\n",
    "        ins = float(line.split(' ')[1])\n",
    "        cnt += 1\n",
    "        mset.add(ins)\n",
    "\n",
    "print(cnt)\n",
    "print(len(mset))\n",
    "sl = sorted(mset)\n",
    "msum = 0\n",
    "for i in range(4, len(sl)-4):\n",
    "    msum += sl[i] - sl[i-1]\n",
    "print(msum*3)"
   ]
  },
  {
   "cell_type": "code",
   "execution_count": 30,
   "id": "960f60f2-e814-4427-aaa8-8550974e5b60",
   "metadata": {},
   "outputs": [
    {
     "name": "stdout",
     "output_type": "stream",
     "text": [
      "85\n",
      "29\n",
      "91051704693.0\n"
     ]
    }
   ],
   "source": [
    "with open(\"../results/verify_instructions_exp/metrics2.log\") as f:\n",
    "    lines = f.readlines()\n",
    "mset = set()\n",
    "cnt=0\n",
    "for line in lines:\n",
    "    #instructions\n",
    "    if \"microbench\" in line and \"instructions\" in line:\n",
    "        ins = float(line.split(' ')[1])\n",
    "        cnt += 1\n",
    "        mset.add(ins)\n",
    "print(cnt)\n",
    "print(len(mset))\n",
    "sl = sorted(mset)\n",
    "msum = 0\n",
    "for i in range(3, len(sl)-3):\n",
    "    msum += sl[i] - sl[i-1]\n",
    "print(msum*3)"
   ]
  },
  {
   "cell_type": "code",
   "execution_count": 31,
   "id": "ca9e3f01-b2f0-48eb-ad16-4d0cf0068b17",
   "metadata": {},
   "outputs": [
    {
     "name": "stdout",
     "output_type": "stream",
     "text": [
      "108\n",
      "31\n",
      "85589017653.0\n"
     ]
    }
   ],
   "source": [
    "with open(\"../results/verify_instructions_exp/metrics3.log\") as f:\n",
    "    lines = f.readlines()\n",
    "mset = set()\n",
    "cnt=0\n",
    "for line in lines:\n",
    "    if \"microbench\" in line and \"instructions\" in line:\n",
    "        ins = float(line.split(' ')[1])\n",
    "        cnt += 1\n",
    "        mset.add(ins)\n",
    "\n",
    "print(cnt)\n",
    "print(len(mset))\n",
    "sl = sorted(mset)\n",
    "msum = 0\n",
    "for i in range(3, len(sl)-3):\n",
    "    msum += sl[i] - sl[i-1]\n",
    "print(msum*3)"
   ]
  },
  {
   "cell_type": "markdown",
   "id": "ba2f1215-e8e8-46ae-8ccf-bfdbfb60ef64",
   "metadata": {},
   "source": [
    "# perf numbers\n",
    "\n",
    "```\n",
    "hand32@node1:~/peakler/experiments/microbenchmarks$ for ((i=0;i<10;i++)); do perf stat -e instructions,cache-misses,ref-cycles -x, taskset -c 7 ./build/runALU 9000 && echo \"\"; done\n",
    "90135155063,,instructions,25877242111,33.33,,\n",
    "183349382,,cache-misses,51753832664,66.67,,\n",
    "<not counted>,,ref-cycles,0,0.00,,\n",
    "\n",
    "90138216411,,instructions,25763871252,33.33,,\n",
    "183513353,,cache-misses,51527915220,66.67,,\n",
    "<not counted>,,ref-cycles,0,0.00,,\n",
    "\n",
    "90118989859,,instructions,25759204793,33.33,,\n",
    "183122574,,cache-misses,51522552449,66.66,,\n",
    "<not counted>,,ref-cycles,0,0.00,,\n",
    "\n",
    "90138472927,,instructions,25762631742,33.33,,\n",
    "183166621,,cache-misses,51525457842,66.67,,\n",
    "<not counted>,,ref-cycles,0,0.00,,\n",
    "```"
   ]
  },
  {
   "cell_type": "markdown",
   "id": "ade58f0d-1474-430c-b6e2-ba850ffa625b",
   "metadata": {},
   "source": [
    "## parallle tasks\n",
    "```\n",
    "hand32@node1:~/peakler/experiments/microbenchmarks$ for ((i=0;i<3;i++)); do perf stat -a -e instructions,cache-misses,ref-cycles,power/energy-pkg/,power/energy-ram/ -x, ./run_alu.sh mainParallel -p $(nproc) -i 9000 && echo \"\"; done\n",
    "taskset -c 7 ./build/runALU 9000 &\n",
    "taskset -c 6 ./build/runALU 9000 &\n",
    "taskset -c 5 ./build/runALU 9000 &\n",
    "taskset -c 4 ./build/runALU 9000 &\n",
    "taskset -c 3 ./build/runALU 9000 &\n",
    "taskset -c 2 ./build/runALU 9000 &\n",
    "taskset -c 1 ./build/runALU 9000 &\n",
    "taskset -c 0 ./build/runALU 9000 &\n",
    "756644175425,,instructions,501751842403,71.43,,\n",
    "514222694,,cache-misses,602104315146,85.72,,\n",
    "1459079660680,,ref-cycles,514278006533,73.21,,\n",
    "5064.70,Joules,power/energy-pkg/,87804195512,100.00,,\n",
    "613.62,Joules,power/energy-ram/,87804192924,100.00,,\n",
    "\n",
    "taskset -c 7 ./build/runALU 9000 &\n",
    "taskset -c 6 ./build/runALU 9000 &\n",
    "taskset -c 5 ./build/runALU 9000 &\n",
    "taskset -c 4 ./build/runALU 9000 &\n",
    "taskset -c 3 ./build/runALU 9000 &\n",
    "taskset -c 2 ./build/runALU 9000 &\n",
    "taskset -c 1 ./build/runALU 9000 &\n",
    "taskset -c 0 ./build/runALU 9000 &\n",
    "759390408424,,instructions,502213288395,71.43,,\n",
    "525489860,,cache-misses,602663443170,85.72,,\n",
    "1463221344673,,ref-cycles,565003811030,80.36,,\n",
    "5115.31,Joules,power/energy-pkg/,87887004426,100.00,,\n",
    "615.84,Joules,power/energy-ram/,87887004616,100.00,,\n",
    "\n",
    "taskset -c 7 ./build/runALU 9000 &\n",
    "taskset -c 6 ./build/runALU 9000 &\n",
    "taskset -c 5 ./build/runALU 9000 &\n",
    "taskset -c 4 ./build/runALU 9000 &\n",
    "taskset -c 3 ./build/runALU 9000 &\n",
    "taskset -c 2 ./build/runALU 9000 &\n",
    "taskset -c 1 ./build/runALU 9000 &\n",
    "taskset -c 0 ./build/runALU 9000 &\n",
    "756996252676,,instructions,500827512972,71.43,,\n",
    "511608566,,cache-misses,600986330163,85.71,,\n",
    "1454525956278,,ref-cycles,312998310388,44.64,,\n",
    "5120.51,Joules,power/energy-pkg/,87643347326,100.00,,\n",
    "613.88,Joules,power/energy-ram/,87643347266,100.00,,\n",
    "```"
   ]
  },
  {
   "cell_type": "code",
   "execution_count": 56,
   "id": "65b74152-59d3-492c-9d3e-78138ab84671",
   "metadata": {},
   "outputs": [
    {
     "name": "stdout",
     "output_type": "stream",
     "text": [
      "942.2350000000001\n",
      "2398.0\n"
     ]
    }
   ],
   "source": [
    "with open(\"../results/verify_instructions_exp/metrics1.log\") as f:\n",
    "    lines = f.readlines()\n",
    "mdyn = set()\n",
    "midl = set()\n",
    "cnt=0\n",
    "for line in lines:\n",
    "    if \"kepler_node_package_joules_total\" in line and \"dynamic\" in line:\n",
    "        mdyn.add(float(line.split(' ')[1]))\n",
    "    elif \"kepler_node_package_joules_total\" in line and \"idle\" in line:\n",
    "        midl.add(float(line.split(' ')[1]))\n",
    "\n",
    "sl = sorted(mdyn)\n",
    "msum = 0\n",
    "for i in range(1, len(sl)):\n",
    "    msum += sl[i] - sl[i-1]\n",
    "print(msum)\n",
    "\n",
    "sl = sorted(midl)\n",
    "msum = 0\n",
    "for i in range(1, len(sl)):\n",
    "    msum += sl[i] - sl[i-1]\n",
    "print(msum)"
   ]
  },
  {
   "cell_type": "code",
   "execution_count": null,
   "id": "3f39f069-2306-4ca3-84ea-993a62bc2ec4",
   "metadata": {},
   "outputs": [],
   "source": [
    "kepler_node"
   ]
  },
  {
   "cell_type": "code",
   "execution_count": 14,
   "id": "670c420b-238b-49c1-ba7f-1bd4187444a8",
   "metadata": {},
   "outputs": [
    {
     "name": "stdout",
     "output_type": "stream",
     "text": [
      "96\n",
      "33\n",
      "672670352573.0\n"
     ]
    }
   ],
   "source": [
    "with open(\"../results/verify_instructions_exp/parmetrics1.log\") as f:\n",
    "    lines = f.readlines()\n",
    "mset = set()\n",
    "cnt=0\n",
    "for line in lines:\n",
    "    if \"microbench\" in line and \"cycles\" in line:\n",
    "        #print(line)\n",
    "        ins = float(line.split(' ')[1])\n",
    "        cnt += 1\n",
    "        mset.add(ins)\n",
    "\n",
    "print(cnt)\n",
    "print(len(mset))\n",
    "sl = sorted(mset)\n",
    "msum = 0\n",
    "for i in range(1, len(sl)):\n",
    "    msum += sl[i] - sl[i-1]\n",
    "print(msum)"
   ]
  },
  {
   "cell_type": "code",
   "execution_count": 15,
   "id": "e6bb5f8d-4ed5-4cb7-ae15-5f3b6499d52e",
   "metadata": {},
   "outputs": [
    {
     "data": {
      "text/plain": [
       "1459079660680"
      ]
     },
     "execution_count": 15,
     "metadata": {},
     "output_type": "execute_result"
    }
   ],
   "source": [
    "1459079660680"
   ]
  },
  {
   "cell_type": "code",
   "execution_count": 6,
   "id": "5f7cb921-ace7-43e3-acdd-968fab2b9979",
   "metadata": {},
   "outputs": [
    {
     "name": "stdout",
     "output_type": "stream",
     "text": [
      "96\n",
      "33\n",
      "348868784472.0\n"
     ]
    }
   ],
   "source": [
    "with open(\"../results/verify_instructions_exp/parmetrics2.log\") as f:\n",
    "    lines = f.readlines()\n",
    "mset = set()\n",
    "cnt=0\n",
    "for line in lines:\n",
    "    if \"microbench\" in line and \"instructions\" in line:\n",
    "        ins = float(line.split(' ')[1])\n",
    "        cnt += 1\n",
    "        mset.add(ins)\n",
    "\n",
    "print(cnt)\n",
    "print(len(mset))\n",
    "sl = sorted(mset)\n",
    "msum = 0\n",
    "for i in range(1, len(sl)):\n",
    "    msum += sl[i] - sl[i-1]\n",
    "print(msum)"
   ]
  },
  {
   "cell_type": "code",
   "execution_count": 7,
   "id": "4d98e4e4-2026-4e14-ad71-6c523e056ab4",
   "metadata": {},
   "outputs": [
    {
     "name": "stdout",
     "output_type": "stream",
     "text": [
      "98\n",
      "35\n",
      "345589233802.0\n"
     ]
    }
   ],
   "source": [
    "with open(\"../results/verify_instructions_exp/parmetrics3.log\") as f:\n",
    "    lines = f.readlines()\n",
    "mset = set()\n",
    "cnt=0\n",
    "for line in lines:\n",
    "    if \"microbench\" in line and \"instructions\" in line:\n",
    "        ins = float(line.split(' ')[1])\n",
    "        cnt += 1\n",
    "        mset.add(ins)\n",
    "\n",
    "print(cnt)\n",
    "print(len(mset))\n",
    "sl = sorted(mset)\n",
    "msum = 0\n",
    "for i in range(1, len(sl)):\n",
    "    msum += sl[i] - sl[i-1]\n",
    "print(msum)"
   ]
  },
  {
   "cell_type": "code",
   "execution_count": null,
   "id": "e59fae7a-d791-4086-a759-6112e2c8c97f",
   "metadata": {},
   "outputs": [],
   "source": [
    "756644175425"
   ]
  }
 ],
 "metadata": {
  "kernelspec": {
   "display_name": "Python 3 (ipykernel)",
   "language": "python",
   "name": "python3"
  },
  "language_info": {
   "codemirror_mode": {
    "name": "ipython",
    "version": 3
   },
   "file_extension": ".py",
   "mimetype": "text/x-python",
   "name": "python",
   "nbconvert_exporter": "python",
   "pygments_lexer": "ipython3",
   "version": "3.10.12"
  }
 },
 "nbformat": 4,
 "nbformat_minor": 5
}
