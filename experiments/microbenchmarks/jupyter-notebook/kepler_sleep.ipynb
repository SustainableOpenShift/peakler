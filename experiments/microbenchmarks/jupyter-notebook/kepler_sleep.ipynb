{
 "cells": [
  {
   "cell_type": "code",
   "execution_count": 1,
   "id": "a7de5c72-f41b-4ca4-b830-9979753a3988",
   "metadata": {},
   "outputs": [],
   "source": [
    "import numpy as np\n"
   ]
  },
  {
   "cell_type": "markdown",
   "id": "2fff12da-bf12-47d5-af82-4c29fde7ae4a",
   "metadata": {},
   "source": [
    "# Perf stat measurements\n",
    "\n",
    "Measuring package and dram power using `perf stat`, roughly `73.7W` when node is idling:\n",
    "\n",
    "**Note: This is when kepler+prometheus is already running on kube-worker-68 node, I expect this to be lower when the system does not have these programs running in the background**\n",
    "\n",
    "```\n",
    "[peaks@kube-worker-68 ~]$ for ((i=0;i<3;i++)); do perf stat -a -e power/energy-pkg/,power/energy-ram/ sleep 60; done\n",
    " Performance counter stats for 'system wide':\n",
    "\n",
    "          4,423.93 Joules power/energy-pkg/\n",
    "          4,437.35 Joules power/energy-ram/\n",
    "\n",
    "      60.006488329 seconds time elapsed\n",
    " Performance counter stats for 'system wide':\n",
    "\n",
    "          4,434.37 Joules power/energy-pkg/\n",
    "          4,465.97 Joules power/energy-ram/\n",
    "\n",
    "      60.005678481 seconds time elapsed\n",
    " Performance counter stats for 'system wide':\n",
    "\n",
    "          4,368.88 Joules power/energy-pkg/\n",
    "          4,345.88 Joules power/energy-ram/\n",
    "\n",
    "      60.004851317 seconds time elapsed\n",
    "```\n",
    "\n",
    "# Rapl log measurements\n",
    "\n",
    "Similar numbers reported from the Rapl logging tool:\n",
    "```\n",
    "cat /tmp/rap.log\n",
    "71.776428 70.815857\n",
    "72.162109 72.975739\n",
    "73.529907 73.922562\n",
    "73.424866 72.284805\n",
    "81.910828 75.892334\n",
    "75.152527 73.884552\n",
    "```"
   ]
  },
  {
   "cell_type": "markdown",
   "id": "456adcca-08c5-44bd-b2cd-07cf47821c59",
   "metadata": {},
   "source": [
    "# Kepler measurements\n",
    "\n",
    "These measurements are collected manually by `kubectl port-forward svc/kepler-exporter 9102:9102` then doing `curl localhost:9102/metrics`"
   ]
  },
  {
   "cell_type": "code",
   "execution_count": 14,
   "id": "5257e99e-d33a-4d11-bdab-3ea5cd7e17b3",
   "metadata": {},
   "outputs": [
    {
     "name": "stdout",
     "output_type": "stream",
     "text": [
      "Run 1:\n",
      "\t kepler_container_package_joules_total: 106.08899999999998\n",
      "\t kepler_container_dram_joules_total: 107.262\n",
      "\n",
      "Run 2:\n",
      "\t kepler_container_package_joules_total: 96.666\n",
      "\t kepler_container_dram_joules_total: 97.74000000000001\n",
      "\n",
      "Run 3:\n",
      "\t kepler_container_package_joules_total: 107.214\n",
      "\t kepler_container_dram_joules_total: 108.168\n",
      "\n"
     ]
    }
   ],
   "source": [
    "for i in range(1,4):\n",
    "    fs = f\"kepler.sleep.S{i}\"\n",
    "    fe = f\"kepler.sleep.E{i}\"\n",
    "\n",
    "    with open(fe) as f:\n",
    "        lines = f.readlines()\n",
    "    for line in lines:\n",
    "        if \"idle\" in line and \"kepler_container_package_joules_total\" in line:\n",
    "            jpe = float(line.split(' ')[1])\n",
    "        if \"idle\" in line and \"kepler_container_dram_joules_total\" in line:\n",
    "            jre = float(line.split(' ')[1])\n",
    "\n",
    "    with open(fs) as f:\n",
    "        lines = f.readlines()\n",
    "    for line in lines:\n",
    "        if \"idle\" in line and \"kepler_container_package_joules_total\" in line:\n",
    "            jps = float(line.split(' ')[1])\n",
    "        if \"idle\" in line and \"kepler_container_dram_joules_total\" in line:\n",
    "            jrs = float(line.split(' ')[1])\n",
    "\n",
    "    print(f\"Run {i}:\")\n",
    "    print(f\"\\t kepler_container_package_joules_total: {jpe-jps}\")\n",
    "    print(f\"\\t kepler_container_dram_joules_total: {jre-jrs}\\n\")\n",
    "    "
   ]
  },
  {
   "cell_type": "code",
   "execution_count": null,
   "id": "4bd18656-555b-47da-8dcb-a5c4c3a84471",
   "metadata": {},
   "outputs": [],
   "source": []
  }
 ],
 "metadata": {
  "kernelspec": {
   "display_name": "Python 3 (ipykernel)",
   "language": "python",
   "name": "python3"
  },
  "language_info": {
   "codemirror_mode": {
    "name": "ipython",
    "version": 3
   },
   "file_extension": ".py",
   "mimetype": "text/x-python",
   "name": "python",
   "nbconvert_exporter": "python",
   "pygments_lexer": "ipython3",
   "version": "3.10.11"
  }
 },
 "nbformat": 4,
 "nbformat_minor": 5
}
